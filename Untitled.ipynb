{
 "cells": [
  {
   "cell_type": "code",
   "execution_count": 17,
   "id": "9a00aae3-c5aa-4cf5-ae09-6d9d3052db3c",
   "metadata": {},
   "outputs": [
    {
     "name": "stdout",
     "output_type": "stream",
     "text": [
      "Requirement already satisfied: sympy in c:\\users\\rafael\\appdata\\local\\programs\\python\\python310\\lib\\site-packages (1.12)\n",
      "Requirement already satisfied: mpmath>=0.19 in c:\\users\\rafael\\appdata\\local\\programs\\python\\python310\\lib\\site-packages (from sympy) (1.3.0)\n",
      "Note: you may need to restart the kernel to use updated packages.\n"
     ]
    }
   ],
   "source": [
    "%pip install sympy"
   ]
  },
  {
   "cell_type": "code",
   "execution_count": 18,
   "id": "839c2ab5-255c-4fba-83e1-4e9172db5191",
   "metadata": {},
   "outputs": [],
   "source": [
    "from sympy import symbols, Eq, solve"
   ]
  },
  {
   "cell_type": "code",
   "execution_count": 20,
   "id": "2734d531-1885-4b6d-a925-e3c83e03e994",
   "metadata": {},
   "outputs": [],
   "source": [
    "Va, Vb, Vc, Vd, Ve, Vf, Vg, Vi, Vh, Ib, Ic, Id, Ie, Ig = symbols('Va Vb Vc Vd Ve Vf Vg Vi Vh Ib Ic Id Ie Ig')"
   ]
  },
  {
   "cell_type": "code",
   "execution_count": 22,
   "id": "5583eb3c-798f-46a9-a9a4-37988790acfa",
   "metadata": {},
   "outputs": [],
   "source": [
    "eq1 = Eq(1*Va + 0*Vb + 0*Vc + 0*Vd + 0*Ve + 0*Vf + 0*Vg + 0*Vi + 0*Vh - 9*Ib + 0*Ic + 0*Id + 0*Ie + 0*Ig, 0)\n",
    "eq2 = Eq(0*Va + 1*Vb + 0*Vc + 0*Vd + 0*Ve + 0*Vf + 0*Vg + 0*Vi + 0*Vh - 11*Ib + 0*Ic + 0*Id + 0*Ie + 0*Ig, 0)\n",
    "eq3 = Eq(0*Va + 0*Vb + 1*Vc + 0*Vd + 0*Ve + 0*Vf + 0*Vg + 0*Vi + 0*Vh - 10*Ib + 0*Ic + 0*Id + 0*Ie + 0*Ig, 0)\n",
    "eq4 = Eq(0*Va + 0*Vb + 0*Vc + 1*Vd + 0*Ve + 0*Vf + 0*Vg + 0*Vi + 0*Vh + 0*Ib + 0*Ic - 30*Id + 0*Ie + 0*Ig, 0)\n",
    "eq5 = Eq(0*Va + 0*Vb + 0*Vc + 0*Vd + 1*Ve + 0*Vf + 0*Vg + 0*Vi + 0*Vh + 0*Ib - 5*Ic + 0*Id + 0*Ie + 0*Ig, 0)\n",
    "eq6 = Eq(0*Va + 0*Vb + 0*Vc + 0*Vd + 0*Ve + 1*Vf + 0*Vg + 0*Vi + 0*Vh + 0*Ib + 0*Ic + 0*Id - 4*Ie + 0*Ig, 0)\n",
    "eq7 = Eq(0*Va + 0*Vb + 0*Vc + 0*Vd + 0*Ve + 0*Vf + 0*Vg + 1*Vi + 0*Vh + 0*Ib + 0*Ic + 0*Id - 16*Ie + 0*Ig, 0)\n",
    "eq8 = Eq(0*Va + 0*Vb + 0*Vc + 0*Vd + 0*Ve + 0*Vf + 0*Vg + 0*Vi + 1*Vh + 0*Ib + 0*Ic + 0*Id + 0*Ie + 0*Ig, 60)\n",
    "eq9 = Eq(0*Va + 0*Vb + 0*Vc + 0*Vd + 0*Ve + 0*Vf + 0*Vg + 0*Vi + 0*Vh + 1*Ib + 1*Ic + 0*Id + 0*Ie + 0*Ig, 4)\n",
    "eq10 = Eq(0*Va + 0*Vb + 0*Vc + 0*Vd + 0*Ve + 0*Vf + 0*Vg + 0*Vi + 0*Vh + 0*Ib + 1*Ic - 1*Id + 0*Ie - 1*Ig, 0)\n",
    "eq11 = Eq(0*Va + 0*Vb + 0*Vc + 0*Vd + 0*Ve + 0*Vf + 0*Vg + 0*Vi + 0*Vh + 1*Ib + 0*Ic - 1*Id - 1*Ie + 0*Ig, 0)\n",
    "eq12 = Eq(1*Va + 0*Vb + 0*Vc + 0*Vd + 0*Ve + 0*Vf - 1*Vg + 0*Vi + 0*Vh + 0*Ib - 5*Ic + 0*Id + 0*Ie + 0*Ig, -40)\n",
    "eq13 = Eq(1*Va + 0*Vb + 0*Vc + 0*Vd + 0*Ve + 0*Vf + 1*Vg + 0*Vi + 0*Vh + 0*Ib + 0*Ic - 30*Id - 4*Ie + 0*Ig, 0)\n",
    "eq14 = Eq(1*Va + 0*Vb + 0*Vc + 0*Vd + 0*Ve + 0*Vf + 0*Vg + 0*Vi + 0*Vh + 10*Ib - 5*Ic + 30*Id + 0*Ie + 0*Ig, 0)"
   ]
  },
  {
   "cell_type": "code",
   "execution_count": 23,
   "id": "8ae90d36-13f0-4f3c-a233-1af2ba7fd42e",
   "metadata": {},
   "outputs": [],
   "source": [
    "solucao = solve((eq1, eq2, eq3, eq4, eq5, eq6, eq7, eq8, eq9, eq10, eq11, eq12, eq13, eq14), (Va, Vb, Vc, Vd, Ve, Vf, Vg, Vi, Vh, Ib, Ic, Id, Ie, Ig))"
   ]
  },
  {
   "cell_type": "code",
   "execution_count": 24,
   "id": "ff1c6e29-10b4-4ac6-a0b4-6eb218793dbf",
   "metadata": {},
   "outputs": [
    {
     "name": "stdout",
     "output_type": "stream",
     "text": [
      "Ib: -40/597\n",
      "Ic: 2428/597\n",
      "Id: 430/597\n",
      "Ie: -470/597\n",
      "Ig: 666/199\n",
      "Va: -120/199\n",
      "Vb: -440/597\n",
      "Vc: -400/597\n",
      "Vd: 4300/199\n",
      "Ve: 12140/597\n",
      "Vf: -1880/597\n",
      "Vg: 11380/597\n",
      "Vh: 60\n",
      "Vi: -7520/597\n"
     ]
    }
   ],
   "source": [
    "for variavel, valor in solucao.items():\n",
    "    print(f'{variavel}: {valor}')"
   ]
  },
  {
   "cell_type": "code",
   "execution_count": null,
   "id": "759731a0-a659-4b00-9763-075e130bd64a",
   "metadata": {},
   "outputs": [],
   "source": []
  }
 ],
 "metadata": {
  "kernelspec": {
   "display_name": "Python 3 (ipykernel)",
   "language": "python",
   "name": "python3"
  },
  "language_info": {
   "codemirror_mode": {
    "name": "ipython",
    "version": 3
   },
   "file_extension": ".py",
   "mimetype": "text/x-python",
   "name": "python",
   "nbconvert_exporter": "python",
   "pygments_lexer": "ipython3",
   "version": "3.10.11"
  }
 },
 "nbformat": 4,
 "nbformat_minor": 5
}
